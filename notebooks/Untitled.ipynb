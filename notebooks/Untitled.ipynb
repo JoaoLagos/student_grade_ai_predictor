{
 "cells": [
  {
   "cell_type": "code",
   "execution_count": 1,
   "id": "aa0e67d8-8cfa-4218-ab33-bac58cd0765e",
   "metadata": {},
   "outputs": [],
   "source": [
    "import sys\n",
    "sys.path.append('../')  # Adiciona o diretório pai ao PATH (se necessário)\n",
    "import pandas as pd\n",
    "import matplotlib.pyplot as plt\n",
    "from sklearn.linear_model import LogisticRegression\n",
    "from sklearn.metrics import classification_report, accuracy_score, confusion_matrix\n",
    "from sklearn.model_selection import train_test_split\n",
    "from imblearn.combine import SMOTEENN\n",
    "from imblearn.under_sampling import RandomUnderSampler\n",
    "from imblearn.under_sampling import EditedNearestNeighbours\n",
    "from sklearn.model_selection import train_test_split, cross_val_score, KFold, cross_val_predict\n",
    "from sklearn.ensemble import RandomForestClassifier\n",
    "import matplotlib.pyplot as plt\n",
    "import seaborn as sns\n",
    "import numpy as np"
   ]
  },
  {
   "cell_type": "code",
   "execution_count": 2,
   "id": "12667eb8-adfd-4fe8-b6fc-c79b0f7fb44e",
   "metadata": {},
   "outputs": [
    {
     "data": {
      "text/html": [
       "<div>\n",
       "<style scoped>\n",
       "    .dataframe tbody tr th:only-of-type {\n",
       "        vertical-align: middle;\n",
       "    }\n",
       "\n",
       "    .dataframe tbody tr th {\n",
       "        vertical-align: top;\n",
       "    }\n",
       "\n",
       "    .dataframe thead th {\n",
       "        text-align: right;\n",
       "    }\n",
       "</style>\n",
       "<table border=\"1\" class=\"dataframe\">\n",
       "  <thead>\n",
       "    <tr style=\"text-align: right;\">\n",
       "      <th></th>\n",
       "      <th>StudentID</th>\n",
       "      <th>Age</th>\n",
       "      <th>Gender</th>\n",
       "      <th>Ethnicity</th>\n",
       "      <th>ParentalEducation</th>\n",
       "      <th>StudyTimeWeekly</th>\n",
       "      <th>Absences</th>\n",
       "      <th>Tutoring</th>\n",
       "      <th>ParentalSupport</th>\n",
       "      <th>Extracurricular</th>\n",
       "      <th>Sports</th>\n",
       "      <th>Music</th>\n",
       "      <th>Volunteering</th>\n",
       "      <th>GPA</th>\n",
       "      <th>GradeClass</th>\n",
       "    </tr>\n",
       "  </thead>\n",
       "  <tbody>\n",
       "    <tr>\n",
       "      <th>0</th>\n",
       "      <td>1001</td>\n",
       "      <td>17</td>\n",
       "      <td>1</td>\n",
       "      <td>0</td>\n",
       "      <td>2</td>\n",
       "      <td>19.833723</td>\n",
       "      <td>7</td>\n",
       "      <td>1</td>\n",
       "      <td>2</td>\n",
       "      <td>0</td>\n",
       "      <td>0</td>\n",
       "      <td>1</td>\n",
       "      <td>0</td>\n",
       "      <td>2.929196</td>\n",
       "      <td>2.0</td>\n",
       "    </tr>\n",
       "    <tr>\n",
       "      <th>1</th>\n",
       "      <td>1002</td>\n",
       "      <td>18</td>\n",
       "      <td>0</td>\n",
       "      <td>0</td>\n",
       "      <td>1</td>\n",
       "      <td>15.408756</td>\n",
       "      <td>0</td>\n",
       "      <td>0</td>\n",
       "      <td>1</td>\n",
       "      <td>0</td>\n",
       "      <td>0</td>\n",
       "      <td>0</td>\n",
       "      <td>0</td>\n",
       "      <td>3.042915</td>\n",
       "      <td>1.0</td>\n",
       "    </tr>\n",
       "    <tr>\n",
       "      <th>2</th>\n",
       "      <td>1003</td>\n",
       "      <td>15</td>\n",
       "      <td>0</td>\n",
       "      <td>2</td>\n",
       "      <td>3</td>\n",
       "      <td>4.210570</td>\n",
       "      <td>26</td>\n",
       "      <td>0</td>\n",
       "      <td>2</td>\n",
       "      <td>0</td>\n",
       "      <td>0</td>\n",
       "      <td>0</td>\n",
       "      <td>0</td>\n",
       "      <td>0.112602</td>\n",
       "      <td>4.0</td>\n",
       "    </tr>\n",
       "    <tr>\n",
       "      <th>3</th>\n",
       "      <td>1004</td>\n",
       "      <td>17</td>\n",
       "      <td>1</td>\n",
       "      <td>0</td>\n",
       "      <td>3</td>\n",
       "      <td>10.028829</td>\n",
       "      <td>14</td>\n",
       "      <td>0</td>\n",
       "      <td>3</td>\n",
       "      <td>1</td>\n",
       "      <td>0</td>\n",
       "      <td>0</td>\n",
       "      <td>0</td>\n",
       "      <td>2.054218</td>\n",
       "      <td>3.0</td>\n",
       "    </tr>\n",
       "    <tr>\n",
       "      <th>4</th>\n",
       "      <td>1005</td>\n",
       "      <td>17</td>\n",
       "      <td>1</td>\n",
       "      <td>0</td>\n",
       "      <td>2</td>\n",
       "      <td>4.672495</td>\n",
       "      <td>17</td>\n",
       "      <td>1</td>\n",
       "      <td>3</td>\n",
       "      <td>0</td>\n",
       "      <td>0</td>\n",
       "      <td>0</td>\n",
       "      <td>0</td>\n",
       "      <td>1.288061</td>\n",
       "      <td>4.0</td>\n",
       "    </tr>\n",
       "  </tbody>\n",
       "</table>\n",
       "</div>"
      ],
      "text/plain": [
       "   StudentID  Age  Gender  Ethnicity  ParentalEducation  StudyTimeWeekly  \\\n",
       "0       1001   17       1          0                  2        19.833723   \n",
       "1       1002   18       0          0                  1        15.408756   \n",
       "2       1003   15       0          2                  3         4.210570   \n",
       "3       1004   17       1          0                  3        10.028829   \n",
       "4       1005   17       1          0                  2         4.672495   \n",
       "\n",
       "   Absences  Tutoring  ParentalSupport  Extracurricular  Sports  Music  \\\n",
       "0         7         1                2                0       0      1   \n",
       "1         0         0                1                0       0      0   \n",
       "2        26         0                2                0       0      0   \n",
       "3        14         0                3                1       0      0   \n",
       "4        17         1                3                0       0      0   \n",
       "\n",
       "   Volunteering       GPA  GradeClass  \n",
       "0             0  2.929196         2.0  \n",
       "1             0  3.042915         1.0  \n",
       "2             0  0.112602         4.0  \n",
       "3             0  2.054218         3.0  \n",
       "4             0  1.288061         4.0  "
      ]
     },
     "execution_count": 2,
     "metadata": {},
     "output_type": "execute_result"
    }
   ],
   "source": [
    "df = pd.read_csv(\"../databases/students_data.csv\")\n",
    "df.head()"
   ]
  },
  {
   "cell_type": "markdown",
   "id": "90bd8297-52c9-4604-a12a-d17c1fe7b666",
   "metadata": {},
   "source": [
    "### Visualizando informações gerais:"
   ]
  },
  {
   "cell_type": "code",
   "execution_count": 3,
   "id": "35aa34e1-4848-456b-9534-3183b809c3b6",
   "metadata": {},
   "outputs": [
    {
     "name": "stdout",
     "output_type": "stream",
     "text": [
      "Coluna Age: [17 18 15 16]\n",
      "Coluna Gender: [1 0]\n",
      "Coluna Ethnicity: [0 2 1 3]\n",
      "Coluna ParentalEducation: [2 1 3 4 0]\n",
      "Coluna StudyTimeWeekly: [19.83372281 15.40875606  4.21056977 ...  6.80549964 12.41665266\n",
      " 17.81990749]\n",
      "Coluna Absences: [ 7  0 26 14 17 10 22  1 11 15 21  9 16 29  2 25 20  5  8 12 27 23  3 13\n",
      "  6 28  4 18 19 24]\n",
      "Coluna Tutoring: [1 0]\n",
      "Coluna ParentalSupport: [2 1 3 4 0]\n",
      "Coluna Extracurricular: [0 1]\n",
      "Coluna Sports: [0 1]\n",
      "Coluna Music: [1 0]\n",
      "Coluna Volunteering: [0 1]\n",
      "Coluna GPA: [2.92919559 3.04291483 0.11260225 ... 1.14233288 1.80329676 2.14001388]\n",
      "Coluna GradeClass: [2. 1. 4. 3. 0.]\n"
     ]
    }
   ],
   "source": [
    "# Dicionário para armazenar os valores únicos\n",
    "unique_values = {}\n",
    "\n",
    "# Loop através de todas as colunas do DataFrame\n",
    "for column in df.drop(\"StudentID\", axis=1).columns:\n",
    "    unique_values[column] = df[column].unique()\n",
    "\n",
    "# Exibir os valores únicos de cada coluna\n",
    "for column, values in unique_values.items():\n",
    "    print(f'Coluna {column}: {values}')"
   ]
  },
  {
   "cell_type": "code",
   "execution_count": 4,
   "id": "7233f616-58b9-48c1-9a58-2f41fe532fca",
   "metadata": {
    "scrolled": true
   },
   "outputs": [
    {
     "name": "stdout",
     "output_type": "stream",
     "text": [
      "\n",
      "PORCENTAGEM EM AGE\n",
      "Porcentagem de 17: 24.54%\n",
      "Porcentagem de 18: 24.33%\n",
      "Porcentagem de 15: 26.34%\n",
      "Porcentagem de 16: 24.79%\n",
      "\n",
      "PORCENTAGEM EM GENDER\n",
      "Porcentagem de 1: 51.09%\n",
      "Porcentagem de 0: 48.91%\n",
      "\n",
      "PORCENTAGEM EM ETHNICITY\n",
      "Porcentagem de 0: 50.46%\n",
      "Porcentagem de 2: 19.65%\n",
      "Porcentagem de 1: 20.61%\n",
      "Porcentagem de 3: 9.28%\n",
      "\n",
      "PORCENTAGEM EM PARENTALEDUCATION\n",
      "Porcentagem de 2: 39.05%\n",
      "Porcentagem de 1: 30.43%\n",
      "Porcentagem de 3: 15.34%\n",
      "Porcentagem de 4: 5.02%\n",
      "Porcentagem de 0: 10.16%\n",
      "\n",
      "PORCENTAGEM EM ABSENCES\n",
      "Porcentagem de 7: 3.60%\n",
      "Porcentagem de 0: 2.80%\n",
      "Porcentagem de 26: 3.34%\n",
      "Porcentagem de 14: 3.51%\n",
      "Porcentagem de 17: 3.39%\n",
      "Porcentagem de 10: 2.55%\n",
      "Porcentagem de 22: 2.97%\n",
      "Porcentagem de 1: 3.55%\n",
      "Porcentagem de 11: 2.97%\n",
      "Porcentagem de 15: 3.64%\n",
      "Porcentagem de 21: 3.47%\n",
      "Porcentagem de 9: 2.80%\n",
      "Porcentagem de 16: 3.30%\n",
      "Porcentagem de 29: 2.88%\n",
      "Porcentagem de 2: 2.88%\n",
      "Porcentagem de 25: 3.89%\n",
      "Porcentagem de 20: 3.76%\n",
      "Porcentagem de 5: 3.47%\n",
      "Porcentagem de 8: 3.80%\n",
      "Porcentagem de 12: 3.85%\n",
      "Porcentagem de 27: 3.51%\n",
      "Porcentagem de 23: 3.60%\n",
      "Porcentagem de 3: 3.30%\n",
      "Porcentagem de 13: 3.89%\n",
      "Porcentagem de 6: 3.68%\n",
      "Porcentagem de 28: 2.26%\n",
      "Porcentagem de 4: 2.88%\n",
      "Porcentagem de 18: 3.30%\n",
      "Porcentagem de 19: 3.76%\n",
      "Porcentagem de 24: 3.39%\n",
      "\n",
      "PORCENTAGEM EM TUTORING\n",
      "Porcentagem de 1: 30.14%\n",
      "Porcentagem de 0: 69.86%\n",
      "\n",
      "PORCENTAGEM EM PARENTALSUPPORT\n",
      "Porcentagem de 2: 30.94%\n",
      "Porcentagem de 1: 20.44%\n",
      "Porcentagem de 3: 29.14%\n",
      "Porcentagem de 4: 10.62%\n",
      "Porcentagem de 0: 8.86%\n",
      "\n",
      "PORCENTAGEM EM EXTRACURRICULAR\n",
      "Porcentagem de 0: 61.66%\n",
      "Porcentagem de 1: 38.34%\n",
      "\n",
      "PORCENTAGEM EM SPORTS\n",
      "Porcentagem de 0: 69.65%\n",
      "Porcentagem de 1: 30.35%\n",
      "\n",
      "PORCENTAGEM EM MUSIC\n",
      "Porcentagem de 1: 19.69%\n",
      "Porcentagem de 0: 80.31%\n",
      "\n",
      "PORCENTAGEM EM VOLUNTEERING\n",
      "Porcentagem de 0: 84.28%\n",
      "Porcentagem de 1: 15.72%\n",
      "\n",
      "PORCENTAGEM EM GRADECLASS\n",
      "Porcentagem de 2.0: 16.35%\n",
      "Porcentagem de 1.0: 11.25%\n",
      "Porcentagem de 4.0: 50.63%\n",
      "Porcentagem de 3.0: 17.31%\n",
      "Porcentagem de 0.0: 4.47%\n"
     ]
    }
   ],
   "source": [
    "for column in df.drop([\"StudentID\", \"StudyTimeWeekly\", \"GPA\"], axis=1).columns:\n",
    "        lista_item = df[column].unique()\n",
    "        dicionario_porcentagem = {}\n",
    "\n",
    "        for item in lista_item:\n",
    "            dicionario_porcentagem[item] = df[df[column] == item].shape[0]\n",
    "\n",
    "\n",
    "        total = len(df)\n",
    "\n",
    "        print(f\"\\nPORCENTAGEM EM {column.upper()}\")\n",
    "        for item in lista_item:\n",
    "            porcentagem = (dicionario_porcentagem[item] / total) * 100\n",
    "            print(f\"Porcentagem de {str(item).upper()}: {porcentagem:.2f}%\")"
   ]
  },
  {
   "cell_type": "code",
   "execution_count": 5,
   "id": "0dd8d442-48a0-444c-a483-26bf9abb47f7",
   "metadata": {},
   "outputs": [
    {
     "data": {
      "text/plain": [
       "StudentID              int64\n",
       "Age                    int64\n",
       "Gender                 int64\n",
       "Ethnicity              int64\n",
       "ParentalEducation      int64\n",
       "StudyTimeWeekly      float64\n",
       "Absences               int64\n",
       "Tutoring               int64\n",
       "ParentalSupport        int64\n",
       "Extracurricular        int64\n",
       "Sports                 int64\n",
       "Music                  int64\n",
       "Volunteering           int64\n",
       "GPA                  float64\n",
       "GradeClass           float64\n",
       "dtype: object"
      ]
     },
     "execution_count": 5,
     "metadata": {},
     "output_type": "execute_result"
    }
   ],
   "source": [
    "df.dtypes"
   ]
  },
  {
   "cell_type": "markdown",
   "id": "eeac6efc-fca8-4ccc-8780-bace4f4fc8f7",
   "metadata": {},
   "source": [
    "### Limpando os Dados"
   ]
  },
  {
   "cell_type": "markdown",
   "id": "b7b11d51-3e48-432a-b196-b0ba3670b688",
   "metadata": {},
   "source": [
    "Verificando o tamanho:"
   ]
  },
  {
   "cell_type": "code",
   "execution_count": 6,
   "id": "04e6ef06-a4d7-4762-a7aa-50b84dfb802a",
   "metadata": {},
   "outputs": [
    {
     "data": {
      "text/plain": [
       "(2392, 15)"
      ]
     },
     "execution_count": 6,
     "metadata": {},
     "output_type": "execute_result"
    }
   ],
   "source": [
    "df.shape"
   ]
  },
  {
   "cell_type": "code",
   "execution_count": 7,
   "id": "7b9e502c-6560-4935-bd53-4a4fe945e969",
   "metadata": {},
   "outputs": [
    {
     "data": {
      "text/plain": [
       "(2392, 15)"
      ]
     },
     "execution_count": 7,
     "metadata": {},
     "output_type": "execute_result"
    }
   ],
   "source": [
    "df = df.dropna()\n",
    "df.shape"
   ]
  },
  {
   "cell_type": "markdown",
   "id": "758d7237-e438-400d-9320-01f30d788edb",
   "metadata": {},
   "source": [
    "**Logo, não existe valores nulos!**"
   ]
  },
  {
   "cell_type": "markdown",
   "id": "96aefb0f-3bf4-4cf7-bb6e-ccb3ebb8379a",
   "metadata": {},
   "source": [
    "Ao analisar, não há muito o que ser tratado. O dado já veio bem tratado!"
   ]
  },
  {
   "cell_type": "markdown",
   "id": "4f2f5f26-f145-47ea-9af1-f580e88fc9e6",
   "metadata": {},
   "source": [
    "### Separação entre X(features) e y(target)"
   ]
  },
  {
   "cell_type": "code",
   "execution_count": 8,
   "id": "cf0231aa-fbfb-45ae-bdee-cda0265c2657",
   "metadata": {},
   "outputs": [],
   "source": [
    "X = df.drop(['StudentID', \"GPA\", 'GradeClass'], axis=1)\n",
    "y = df[\"GradeClass\"] "
   ]
  },
  {
   "cell_type": "markdown",
   "id": "73be5151-75e9-4264-9879-90238dbf28a2",
   "metadata": {},
   "source": [
    "### Dividir o X(features) e y(target) em conjuntos de **treino** e **teste**"
   ]
  },
  {
   "cell_type": "code",
   "execution_count": 9,
   "id": "94619043-128c-4cd0-9658-317f110679b0",
   "metadata": {},
   "outputs": [],
   "source": [
    "# Dividir o conjunto de dados em treinamento e um conjunto teste\n",
    "X_train, X_test, y_train, y_test = train_test_split(X, y, test_size=0.3, random_state=42)"
   ]
  },
  {
   "cell_type": "markdown",
   "id": "dfbd61ed-076b-4981-a944-408c6c64d7c2",
   "metadata": {},
   "source": [
    "**Verificando (des)balanceamento de Classe:**"
   ]
  },
  {
   "cell_type": "code",
   "execution_count": 10,
   "id": "68bb7777-5162-48d5-9c3a-a8c3ac332ade",
   "metadata": {},
   "outputs": [
    {
     "data": {
      "image/png": "[encoded data removed]",
      "text/plain": [
       "<Figure size 640x480 with 1 Axes>"
      ]
     },
     "metadata": {},
     "output_type": "display_data"
    }
   ],
   "source": [
    "#gráfico de barras para verificar o balanceamento\n",
    "plt.bar(['4', '3', '2', '1', '0'], y_train.value_counts())\n",
    "plt.title('SEM Balanceamento')\n",
    "plt.show()"
   ]
  },
  {
   "cell_type": "markdown",
   "id": "35280b89-b172-4518-8a20-c6f2ac3d651b",
   "metadata": {},
   "source": [
    "**Aplicar SMOTE e ENN para balanceamento das classes:**"
   ]
  },
  {
   "cell_type": "code",
   "execution_count": 11,
   "id": "b9b3bc59-fbc9-4978-8897-7a6be73c2389",
   "metadata": {},
   "outputs": [],
   "source": [
    "# Ajustar ENN para ser menos agressivo\n",
    "smote_enn = SMOTEENN(sampling_strategy=\"all\", random_state=42, enn=EditedNearestNeighbours(n_neighbors=5))\n",
    "X_train, y_train = smote_enn.fit_resample(X_train, y_train)"
   ]
  },
  {
   "cell_type": "code",
   "execution_count": 12,
   "id": "e6c7a40f-21b4-4f3e-81d2-283f977772b9",
   "metadata": {},
   "outputs": [
    {
     "data": {
      "image/png": "[encoded data removed]",
      "text/plain": [
       "<Figure size 640x480 with 1 Axes>"
      ]
     },
     "metadata": {},
     "output_type": "display_data"
    }
   ],
   "source": [
    "#gráfico de barras para verificar o balanceamento\n",
    "plt.bar(['4', '3', '2', '1', '0'], y_train.value_counts())\n",
    "plt.title('COM Balanceamento (OVERSAMPLING)')\n",
    "plt.show()"
   ]
  },
  {
   "cell_type": "code",
   "execution_count": 13,
   "id": "781aef55-6fed-413e-a3c5-811442c605c0",
   "metadata": {},
   "outputs": [],
   "source": [
    "# Aplicar RandomUnderSampler\n",
    "under_sampler = RandomUnderSampler(sampling_strategy=\"auto\", random_state=42)\n",
    "X_train, y_train = under_sampler.fit_resample(X_train, y_train)"
   ]
  },
  {
   "cell_type": "code",
   "execution_count": 14,
   "id": "692818af-c6ed-437a-a4a0-267ce28c6219",
   "metadata": {},
   "outputs": [
    {
     "data": {
      "image/png": "[encoded data removed]",
      "text/plain": [
       "<Figure size 640x480 with 1 Axes>"
      ]
     },
     "metadata": {},
     "output_type": "display_data"
    }
   ],
   "source": [
    "#gráfico de barras para verificar o balanceamento\n",
    "plt.bar(['4', '3', '2', '1', '0'], y_train.value_counts())\n",
    "plt.title('COM Balanceamento (UNDERSAMPLING)')\n",
    "plt.show()"
   ]
  },
  {
   "cell_type": "markdown",
   "id": "89ad9e07-7038-40b9-a900-c54dd26e917b",
   "metadata": {},
   "source": [
    "## Usando **RandomForest**"
   ]
  },
  {
   "cell_type": "code",
   "execution_count": 15,
   "id": "c1374288-37da-4fb2-912a-13a367b3dff7",
   "metadata": {},
   "outputs": [
    {
     "data": {
      "text/html": [
       "<style>#sk-container-id-1 {\n",
       "  /* Definition of color scheme common for light and dark mode */\n",
       "  --sklearn-color-text: black;\n",
       "  --sklearn-color-line: gray;\n",
       "  /* Definition of color scheme for unfitted estimators */\n",
       "  --sklearn-color-unfitted-level-0: #fff5e6;\n",
       "  --sklearn-color-unfitted-level-1: #f6e4d2;\n",
       "  --sklearn-color-unfitted-level-2: #ffe0b3;\n",
       "  --sklearn-color-unfitted-level-3: chocolate;\n",
       "  /* Definition of color scheme for fitted estimators */\n",
       "  --sklearn-color-fitted-level-0: #f0f8ff;\n",
       "  --sklearn-color-fitted-level-1: #d4ebff;\n",
       "  --sklearn-color-fitted-level-2: #b3dbfd;\n",
       "  --sklearn-color-fitted-level-3: cornflowerblue;\n",
       "\n",
       "  /* Specific color for light theme */\n",
       "  --sklearn-color-text-on-default-background: var(--sg-text-color, var(--theme-code-foreground, var(--jp-content-font-color1, black)));\n",
       "  --sklearn-color-background: var(--sg-background-color, var(--theme-background, var(--jp-layout-color0, white)));\n",
       "  --sklearn-color-border-box: var(--sg-text-color, var(--theme-code-foreground, var(--jp-content-font-color1, black)));\n",
       "  --sklearn-color-icon: #696969;\n",
       "\n",
       "  @media (prefers-color-scheme: dark) {\n",
       "    /* Redefinition of color scheme for dark theme */\n",
       "    --sklearn-color-text-on-default-background: var(--sg-text-color, var(--theme-code-foreground, var(--jp-content-font-color1, white)));\n",
       "    --sklearn-color-background: var(--sg-background-color, var(--theme-background, var(--jp-layout-color0, #111)));\n",
       "    --sklearn-color-border-box: var(--sg-text-color, var(--theme-code-foreground, var(--jp-content-font-color1, white)));\n",
       "    --sklearn-color-icon: #878787;\n",
       "  }\n",
       "}\n",
       "\n",
       "#sk-container-id-1 {\n",
       "  color: var(--sklearn-color-text);\n",
       "}\n",
       "\n",
       "#sk-container-id-1 pre {\n",
       "  padding: 0;\n",
       "}\n",
       "\n",
       "#sk-container-id-1 input.sk-hidden--visually {\n",
       "  border: 0;\n",
       "  clip: rect(1px 1px 1px 1px);\n",
       "  clip: rect(1px, 1px, 1px, 1px);\n",
       "  height: 1px;\n",
       "  margin: -1px;\n",
       "  overflow: hidden;\n",
       "  padding: 0;\n",
       "  position: absolute;\n",
       "  width: 1px;\n",
       "}\n",
       "\n",
       "#sk-container-id-1 div.sk-dashed-wrapped {\n",
       "  border: 1px dashed var(--sklearn-color-line);\n",
       "  margin: 0 0.4em 0.5em 0.4em;\n",
       "  box-sizing: border-box;\n",
       "  padding-bottom: 0.4em;\n",
       "  background-color: var(--sklearn-color-background);\n",
       "}\n",
       "\n",
       "#sk-container-id-1 div.sk-container {\n",
       "  /* jupyter's `normalize.less` sets `[hidden] { display: none; }`\n",
       "     but bootstrap.min.css set `[hidden] { display: none !important; }`\n",
       "     so we also need the `!important` here to be able to override the\n",
       "     default hidden behavior on the sphinx rendered scikit-learn.org.\n",
       "     See: https://github.com/scikit-learn/scikit-learn/issues/21755 */\n",
       "  display: inline-block !important;\n",
       "  position: relative;\n",
       "}\n",
       "\n",
       "#sk-container-id-1 div.sk-text-repr-fallback {\n",
       "  display: none;\n",
       "}\n",
       "\n",
       "div.sk-parallel-item,\n",
       "div.sk-serial,\n",
       "div.sk-item {\n",
       "  /* draw centered vertical line to link estimators */\n",
       "  background-image: linear-gradient(var(--sklearn-color-text-on-default-background), var(--sklearn-color-text-on-default-background));\n",
       "  background-size: 2px 100%;\n",
       "  background-repeat: no-repeat;\n",
       "  background-position: center center;\n",
       "}\n",
       "\n",
       "/* Parallel-specific style estimator block */\n",
       "\n",
       "#sk-container-id-1 div.sk-parallel-item::after {\n",
       "  content: \"\";\n",
       "  width: 100%;\n",
       "  border-bottom: 2px solid var(--sklearn-color-text-on-default-background);\n",
       "  flex-grow: 1;\n",
       "}\n",
       "\n",
       "#sk-container-id-1 div.sk-parallel {\n",
       "  display: flex;\n",
       "  align-items: stretch;\n",
       "  justify-content: center;\n",
       "  background-color: var(--sklearn-color-background);\n",
       "  position: relative;\n",
       "}\n",
       "\n",
       "#sk-container-id-1 div.sk-parallel-item {\n",
       "  display: flex;\n",
       "  flex-direction: column;\n",
       "}\n",
       "\n",
       "#sk-container-id-1 div.sk-parallel-item:first-child::after {\n",
       "  align-self: flex-end;\n",
       "  width: 50%;\n",
       "}\n",
       "\n",
       "#sk-container-id-1 div.sk-parallel-item:last-child::after {\n",
       "  align-self: flex-start;\n",
       "  width: 50%;\n",
       "}\n",
       "\n",
       "#sk-container-id-1 div.sk-parallel-item:only-child::after {\n",
       "  width: 0;\n",
       "}\n",
       "\n",
       "/* Serial-specific style estimator block */\n",
       "\n",
       "#sk-container-id-1 div.sk-serial {\n",
       "  display: flex;\n",
       "  flex-direction: column;\n",
       "  align-items: center;\n",
       "  background-color: var(--sklearn-color-background);\n",
       "  padding-right: 1em;\n",
       "  padding-left: 1em;\n",
       "}\n",
       "\n",
       "\n",
       "/* Toggleable style: style used for estimator/Pipeline/ColumnTransformer box that is\n",
       "clickable and can be expanded/collapsed.\n",
       "- Pipeline and ColumnTransformer use this feature and define the default style\n",
       "- Estimators will overwrite some part of the style using the `sk-estimator` class\n",
       "*/\n",
       "\n",
       "/* Pipeline and ColumnTransformer style (default) */\n",
       "\n",
       "#sk-container-id-1 div.sk-toggleable {\n",
       "  /* Default theme specific background. It is overwritten whether we have a\n",
       "  specific estimator or a Pipeline/ColumnTransformer */\n",
       "  background-color: var(--sklearn-color-background);\n",
       "}\n",
       "\n",
       "/* Toggleable label */\n",
       "#sk-container-id-1 label.sk-toggleable__label {\n",
       "  cursor: pointer;\n",
       "  display: block;\n",
       "  width: 100%;\n",
       "  margin-bottom: 0;\n",
       "  padding: 0.5em;\n",
       "  box-sizing: border-box;\n",
       "  text-align: center;\n",
       "}\n",
       "\n",
       "#sk-container-id-1 label.sk-toggleable__label-arrow:before {\n",
       "  /* Arrow on the left of the label */\n",
       "  content: \"▸\";\n",
       "  float: left;\n",
       "  margin-right: 0.25em;\n",
       "  color: var(--sklearn-color-icon);\n",
       "}\n",
       "\n",
       "#sk-container-id-1 label.sk-toggleable__label-arrow:hover:before {\n",
       "  color: var(--sklearn-color-text);\n",
       "}\n",
       "\n",
       "/* Toggleable content - dropdown */\n",
       "\n",
       "#sk-container-id-1 div.sk-toggleable__content {\n",
       "  max-height: 0;\n",
       "  max-width: 0;\n",
       "  overflow: hidden;\n",
       "  text-align: left;\n",
       "  /* unfitted */\n",
       "  background-color: var(--sklearn-color-unfitted-level-0);\n",
       "}\n",
       "\n",
       "#sk-container-id-1 div.sk-toggleable__content.fitted {\n",
       "  /* fitted */\n",
       "  background-color: var(--sklearn-color-fitted-level-0);\n",
       "}\n",
       "\n",
       "#sk-container-id-1 div.sk-toggleable__content pre {\n",
       "  margin: 0.2em;\n",
       "  border-radius: 0.25em;\n",
       "  color: var(--sklearn-color-text);\n",
       "  /* unfitted */\n",
       "  background-color: var(--sklearn-color-unfitted-level-0);\n",
       "}\n",
       "\n",
       "#sk-container-id-1 div.sk-toggleable__content.fitted pre {\n",
       "  /* unfitted */\n",
       "  background-color: var(--sklearn-color-fitted-level-0);\n",
       "}\n",
       "\n",
       "#sk-container-id-1 input.sk-toggleable__control:checked~div.sk-toggleable__content {\n",
       "  /* Expand drop-down */\n",
       "  max-height: 200px;\n",
       "  max-width: 100%;\n",
       "  overflow: auto;\n",
       "}\n",
       "\n",
       "#sk-container-id-1 input.sk-toggleable__control:checked~label.sk-toggleable__label-arrow:before {\n",
       "  content: \"▾\";\n",
       "}\n",
       "\n",
       "/* Pipeline/ColumnTransformer-specific style */\n",
       "\n",
       "#sk-container-id-1 div.sk-label input.sk-toggleable__control:checked~label.sk-toggleable__label {\n",
       "  color: var(--sklearn-color-text);\n",
       "  background-color: var(--sklearn-color-unfitted-level-2);\n",
       "}\n",
       "\n",
       "#sk-container-id-1 div.sk-label.fitted input.sk-toggleable__control:checked~label.sk-toggleable__label {\n",
       "  background-color: var(--sklearn-color-fitted-level-2);\n",
       "}\n",
       "\n",
       "/* Estimator-specific style */\n",
       "\n",
       "/* Colorize estimator box */\n",
       "#sk-container-id-1 div.sk-estimator input.sk-toggleable__control:checked~label.sk-toggleable__label {\n",
       "  /* unfitted */\n",
       "  background-color: var(--sklearn-color-unfitted-level-2);\n",
       "}\n",
       "\n",
       "#sk-container-id-1 div.sk-estimator.fitted input.sk-toggleable__control:checked~label.sk-toggleable__label {\n",
       "  /* fitted */\n",
       "  background-color: var(--sklearn-color-fitted-level-2);\n",
       "}\n",
       "\n",
       "#sk-container-id-1 div.sk-label label.sk-toggleable__label,\n",
       "#sk-container-id-1 div.sk-label label {\n",
       "  /* The background is the default theme color */\n",
       "  color: var(--sklearn-color-text-on-default-background);\n",
       "}\n",
       "\n",
       "/* On hover, darken the color of the background */\n",
       "#sk-container-id-1 div.sk-label:hover label.sk-toggleable__label {\n",
       "  color: var(--sklearn-color-text);\n",
       "  background-color: var(--sklearn-color-unfitted-level-2);\n",
       "}\n",
       "\n",
       "/* Label box, darken color on hover, fitted */\n",
       "#sk-container-id-1 div.sk-label.fitted:hover label.sk-toggleable__label.fitted {\n",
       "  color: var(--sklearn-color-text);\n",
       "  background-color: var(--sklearn-color-fitted-level-2);\n",
       "}\n",
       "\n",
       "/* Estimator label */\n",
       "\n",
       "#sk-container-id-1 div.sk-label label {\n",
       "  font-family: monospace;\n",
       "  font-weight: bold;\n",
       "  display: inline-block;\n",
       "  line-height: 1.2em;\n",
       "}\n",
       "\n",
       "#sk-container-id-1 div.sk-label-container {\n",
       "  text-align: center;\n",
       "}\n",
       "\n",
       "/* Estimator-specific */\n",
       "#sk-container-id-1 div.sk-estimator {\n",
       "  font-family: monospace;\n",
       "  border: 1px dotted var(--sklearn-color-border-box);\n",
       "  border-radius: 0.25em;\n",
       "  box-sizing: border-box;\n",
       "  margin-bottom: 0.5em;\n",
       "  /* unfitted */\n",
       "  background-color: var(--sklearn-color-unfitted-level-0);\n",
       "}\n",
       "\n",
       "#sk-container-id-1 div.sk-estimator.fitted {\n",
       "  /* fitted */\n",
       "  background-color: var(--sklearn-color-fitted-level-0);\n",
       "}\n",
       "\n",
       "/* on hover */\n",
       "#sk-container-id-1 div.sk-estimator:hover {\n",
       "  /* unfitted */\n",
       "  background-color: var(--sklearn-color-unfitted-level-2);\n",
       "}\n",
       "\n",
       "#sk-container-id-1 div.sk-estimator.fitted:hover {\n",
       "  /* fitted */\n",
       "  background-color: var(--sklearn-color-fitted-level-2);\n",
       "}\n",
       "\n",
       "/* Specification for estimator info (e.g. \"i\" and \"?\") */\n",
       "\n",
       "/* Common style for \"i\" and \"?\" */\n",
       "\n",
       ".sk-estimator-doc-link,\n",
       "a:link.sk-estimator-doc-link,\n",
       "a:visited.sk-estimator-doc-link {\n",
       "  float: right;\n",
       "  font-size: smaller;\n",
       "  line-height: 1em;\n",
       "  font-family: monospace;\n",
       "  background-color: var(--sklearn-color-background);\n",
       "  border-radius: 1em;\n",
       "  height: 1em;\n",
       "  width: 1em;\n",
       "  text-decoration: none !important;\n",
       "  margin-left: 1ex;\n",
       "  /* unfitted */\n",
       "  border: var(--sklearn-color-unfitted-level-1) 1pt solid;\n",
       "  color: var(--sklearn-color-unfitted-level-1);\n",
       "}\n",
       "\n",
       ".sk-estimator-doc-link.fitted,\n",
       "a:link.sk-estimator-doc-link.fitted,\n",
       "a:visited.sk-estimator-doc-link.fitted {\n",
       "  /* fitted */\n",
       "  border: var(--sklearn-color-fitted-level-1) 1pt solid;\n",
       "  color: var(--sklearn-color-fitted-level-1);\n",
       "}\n",
       "\n",
       "/* On hover */\n",
       "div.sk-estimator:hover .sk-estimator-doc-link:hover,\n",
       ".sk-estimator-doc-link:hover,\n",
       "div.sk-label-container:hover .sk-estimator-doc-link:hover,\n",
       ".sk-estimator-doc-link:hover {\n",
       "  /* unfitted */\n",
       "  background-color: var(--sklearn-color-unfitted-level-3);\n",
       "  color: var(--sklearn-color-background);\n",
       "  text-decoration: none;\n",
       "}\n",
       "\n",
       "div.sk-estimator.fitted:hover .sk-estimator-doc-link.fitted:hover,\n",
       ".sk-estimator-doc-link.fitted:hover,\n",
       "div.sk-label-container:hover .sk-estimator-doc-link.fitted:hover,\n",
       ".sk-estimator-doc-link.fitted:hover {\n",
       "  /* fitted */\n",
       "  background-color: var(--sklearn-color-fitted-level-3);\n",
       "  color: var(--sklearn-color-background);\n",
       "  text-decoration: none;\n",
       "}\n",
       "\n",
       "/* Span, style for the box shown on hovering the info icon */\n",
       ".sk-estimator-doc-link span {\n",
       "  display: none;\n",
       "  z-index: 9999;\n",
       "  position: relative;\n",
       "  font-weight: normal;\n",
       "  right: .2ex;\n",
       "  padding: .5ex;\n",
       "  margin: .5ex;\n",
       "  width: min-content;\n",
       "  min-width: 20ex;\n",
       "  max-width: 50ex;\n",
       "  color: var(--sklearn-color-text);\n",
       "  box-shadow: 2pt 2pt 4pt #999;\n",
       "  /* unfitted */\n",
       "  background: var(--sklearn-color-unfitted-level-0);\n",
       "  border: .5pt solid var(--sklearn-color-unfitted-level-3);\n",
       "}\n",
       "\n",
       ".sk-estimator-doc-link.fitted span {\n",
       "  /* fitted */\n",
       "  background: var(--sklearn-color-fitted-level-0);\n",
       "  border: var(--sklearn-color-fitted-level-3);\n",
       "}\n",
       "\n",
       ".sk-estimator-doc-link:hover span {\n",
       "  display: block;\n",
       "}\n",
       "\n",
       "/* \"?\"-specific style due to the `<a>` HTML tag */\n",
       "\n",
       "#sk-container-id-1 a.estimator_doc_link {\n",
       "  float: right;\n",
       "  font-size: 1rem;\n",
       "  line-height: 1em;\n",
       "  font-family: monospace;\n",
       "  background-color: var(--sklearn-color-background);\n",
       "  border-radius: 1rem;\n",
       "  height: 1rem;\n",
       "  width: 1rem;\n",
       "  text-decoration: none;\n",
       "  /* unfitted */\n",
       "  color: var(--sklearn-color-unfitted-level-1);\n",
       "  border: var(--sklearn-color-unfitted-level-1) 1pt solid;\n",
       "}\n",
       "\n",
       "#sk-container-id-1 a.estimator_doc_link.fitted {\n",
       "  /* fitted */\n",
       "  border: var(--sklearn-color-fitted-level-1) 1pt solid;\n",
       "  color: var(--sklearn-color-fitted-level-1);\n",
       "}\n",
       "\n",
       "/* On hover */\n",
       "#sk-container-id-1 a.estimator_doc_link:hover {\n",
       "  /* unfitted */\n",
       "  background-color: var(--sklearn-color-unfitted-level-3);\n",
       "  color: var(--sklearn-color-background);\n",
       "  text-decoration: none;\n",
       "}\n",
       "\n",
       "#sk-container-id-1 a.estimator_doc_link.fitted:hover {\n",
       "  /* fitted */\n",
       "  background-color: var(--sklearn-color-fitted-level-3);\n",
       "}\n",
       "</style><div id=\"sk-container-id-1\" class=\"sk-top-container\"><div class=\"sk-text-repr-fallback\"><pre>RandomForestClassifier(random_state=42)</pre><b>In a Jupyter environment, please rerun this cell to show the HTML representation or trust the notebook. <br />On GitHub, the HTML representation is unable to render, please try loading this page with nbviewer.org.</b></div><div class=\"sk-container\" hidden><div class=\"sk-item\"><div class=\"sk-estimator fitted sk-toggleable\"><input class=\"sk-toggleable__control sk-hidden--visually\" id=\"sk-estimator-id-1\" type=\"checkbox\" checked><label for=\"sk-estimator-id-1\" class=\"sk-toggleable__label fitted sk-toggleable__label-arrow fitted\">&nbsp;&nbsp;RandomForestClassifier<a class=\"sk-estimator-doc-link fitted\" rel=\"noreferrer\" target=\"_blank\" href=\"https://scikit-learn.org/1.5/modules/generated/sklearn.ensemble.RandomForestClassifier.html\">?<span>Documentation for RandomForestClassifier</span></a><span class=\"sk-estimator-doc-link fitted\">i<span>Fitted</span></span></label><div class=\"sk-toggleable__content fitted\"><pre>RandomForestClassifier(random_state=42)</pre></div> </div></div></div></div>"
      ],
      "text/plain": [
       "RandomForestClassifier(random_state=42)"
      ]
     },
     "execution_count": 15,
     "metadata": {},
     "output_type": "execute_result"
    }
   ],
   "source": [
    "model = RandomForestClassifier(n_estimators=100, random_state=42)\n",
    "model.fit(X_train, y_train)"
   ]
  },
  {
   "cell_type": "code",
   "execution_count": 16,
   "id": "f37142a0-4d5a-4262-b7d7-db7d3a16971b",
   "metadata": {},
   "outputs": [],
   "source": [
    "kfold = KFold(n_splits=5, shuffle=True, random_state=42)"
   ]
  },
  {
   "cell_type": "code",
   "execution_count": 17,
   "id": "cb58c697-a207-4280-9887-bb5c6a91e89b",
   "metadata": {},
   "outputs": [
    {
     "name": "stdout",
     "output_type": "stream",
     "text": [
      "Acurácia média: 0.8447488584474886\n",
      "Desvio padrão da acurácia: 0.025010162443158263\n"
     ]
    }
   ],
   "source": [
    "scores = cross_val_score(model, X_train, y_train, cv=kfold, scoring='accuracy')\n",
    "\n",
    "# Exibir resultados\n",
    "print(f'Acurácia média: {scores.mean()}')\n",
    "print(f'Desvio padrão da acurácia: {scores.std()}')"
   ]
  },
  {
   "cell_type": "code",
   "execution_count": 18,
   "id": "386427e7-9985-4cee-a380-c774c48dbfeb",
   "metadata": {},
   "outputs": [],
   "source": [
    "y_pred = cross_val_predict(model, X_train, y_train, cv=kfold)"
   ]
  },
  {
   "cell_type": "code",
   "execution_count": 19,
   "id": "85af4409-020f-4503-bcea-f179ce68e705",
   "metadata": {},
   "outputs": [
    {
     "name": "stdout",
     "output_type": "stream",
     "text": [
      "              precision    recall  f1-score   support\n",
      "\n",
      "         0.0       0.83      0.77      0.80       219\n",
      "         1.0       0.82      0.77      0.80       219\n",
      "         2.0       0.80      0.86      0.83       219\n",
      "         3.0       0.83      0.88      0.86       219\n",
      "         4.0       0.93      0.95      0.94       219\n",
      "\n",
      "    accuracy                           0.84      1095\n",
      "   macro avg       0.84      0.84      0.84      1095\n",
      "weighted avg       0.84      0.84      0.84      1095\n",
      "\n"
     ]
    }
   ],
   "source": [
    "print(classification_report(y_train, y_pred))"
   ]
  },
  {
   "cell_type": "markdown",
   "id": "9134770d",
   "metadata": {},
   "source": [
    "**Matriz de Confusão:**"
   ]
  },
  {
   "cell_type": "code",
   "execution_count": 20,
   "id": "ae243000-ffee-445c-b636-cad4a9c4ff7f",
   "metadata": {},
   "outputs": [
    {
     "data": {
      "image/png": "[encoded data removed]",
      "text/plain": [
       "<Figure size 800x600 with 1 Axes>"
      ]
     },
     "metadata": {},
     "output_type": "display_data"
    }
   ],
   "source": [
    "# Matriz de Confusão\n",
    "plt.figure(figsize=(8, 6))\n",
    "cm = confusion_matrix(y_train, y_pred)\n",
    "sns.heatmap(cm, annot=True, fmt='d', cmap='Blues', cbar=False)\n",
    "plt.xlabel('Valores Preditos')\n",
    "plt.ylabel('Valores Verdadeiros')\n",
    "plt.title('Matriz de Confusão')\n",
    "plt.show()"
   ]
  },
  {
   "cell_type": "markdown",
   "id": "7b4ee9e1",
   "metadata": {},
   "source": [
    "## Salvando modelo (persistência)\n",
    "Para uso em produção, considere salvar o modelo treinado usando joblib ou pickle para que possa ser carregado e usado para previsões futuras sem precisar ser treinado novamente."
   ]
  },
  {
   "cell_type": "code",
   "execution_count": 21,
   "id": "2b73fbda",
   "metadata": {},
   "outputs": [
    {
     "data": {
      "text/plain": [
       "['../model/students_model_random_forest.pkl']"
      ]
     },
     "execution_count": 21,
     "metadata": {},
     "output_type": "execute_result"
    }
   ],
   "source": [
    "# Import\n",
    "import joblib\n",
    "\n",
    "# Salvar modelo\n",
    "joblib.dump(model, '../model/students_model_random_forest.pkl')"
   ]
  }
 ],
 "metadata": {
  "kernelspec": {
   "display_name": "Python 3 (ipykernel)",
   "language": "python",
   "name": "python3"
  },
  "language_info": {
   "codemirror_mode": {
    "name": "ipython",
    "version": 3
   },
   "file_extension": ".py",
   "mimetype": "text/x-python",
   "name": "python",
   "nbconvert_exporter": "python",
   "pygments_lexer": "ipython3",
   "version": "3.12.4"
  }
 },
 "nbformat": 4,
 "nbformat_minor": 5
}
